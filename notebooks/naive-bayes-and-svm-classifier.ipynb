{
 "cells": [
  {
   "cell_type": "code",
   "execution_count": 4,
   "metadata": {},
   "outputs": [],
   "source": [
    "import PIL\n",
    "from os import listdir\n",
    "from os.path import isfile, join\n",
    "import pandas as pd\n",
    "import numpy as np"
   ]
  },
  {
   "cell_type": "code",
   "execution_count": 5,
   "metadata": {},
   "outputs": [],
   "source": [
    "!find ./ -type f -size 0 -exec rm -f {} \\;"
   ]
  },
  {
   "cell_type": "code",
   "execution_count": 11,
   "metadata": {},
   "outputs": [],
   "source": [
    "def create_data_frame_from_folder(path, label):\n",
    "    files = [f for f in listdir(path) if isfile(join(path, f))]\n",
    "    images = [PIL.Image.open(join(path, f)) for f in listdir(path) if isfile(join(path, f))]\n",
    "    images_np = [np.array(i)[...,:3] for i in images]\n",
    "    flat_images = [image_np.flatten() for image_np in images_np]\n",
    "    files_lbl = [label] * len(files)\n",
    "    df_dict = {'files' : files, 'images': images, 'image_np':images_np, 'flat_image': flat_images, 'labels': files_lbl}\n",
    "    return pd.DataFrame(df_dict)"
   ]
  },
  {
   "cell_type": "code",
   "execution_count": 12,
   "metadata": {},
   "outputs": [],
   "source": [
    "other_path = \"data/other\"\n",
    "airfields_path = \"data/airfield\"\n",
    "\n",
    "airfields_df = create_data_frame_from_folder(airfields_path, 1)\n",
    "other_df = create_data_frame_from_folder(other_path, 0)\n",
    "airfield_tiles_df = pd.concat([airfields_df, other_df])"
   ]
  },
  {
   "cell_type": "code",
   "execution_count": 17,
   "metadata": {},
   "outputs": [
    {
     "data": {
      "text/html": [
       "<div>\n",
       "<style scoped>\n",
       "    .dataframe tbody tr th:only-of-type {\n",
       "        vertical-align: middle;\n",
       "    }\n",
       "\n",
       "    .dataframe tbody tr th {\n",
       "        vertical-align: top;\n",
       "    }\n",
       "\n",
       "    .dataframe thead th {\n",
       "        text-align: right;\n",
       "    }\n",
       "</style>\n",
       "<table border=\"1\" class=\"dataframe\">\n",
       "  <thead>\n",
       "    <tr style=\"text-align: right;\">\n",
       "      <th></th>\n",
       "      <th>files</th>\n",
       "      <th>images</th>\n",
       "      <th>image_np</th>\n",
       "      <th>flat_image</th>\n",
       "      <th>labels</th>\n",
       "    </tr>\n",
       "  </thead>\n",
       "  <tbody>\n",
       "    <tr>\n",
       "      <th>0</th>\n",
       "      <td>17_107808_56423.png</td>\n",
       "      <td>&lt;PIL.PngImagePlugin.PngImageFile image mode=P ...</td>\n",
       "      <td>[[7, 7, 7], [7, 7, 7], [7, 7, 7], [7, 7, 7], [...</td>\n",
       "      <td>[7, 7, 7, 7, 7, 7, 7, 7, 7, 7, 7, 7, 7, 7, 7, ...</td>\n",
       "      <td>1</td>\n",
       "    </tr>\n",
       "    <tr>\n",
       "      <th>1</th>\n",
       "      <td>15_26107_15380.png</td>\n",
       "      <td>&lt;PIL.PngImagePlugin.PngImageFile image mode=P ...</td>\n",
       "      <td>[[222, 145, 132], [222, 168, 132], [222, 168, ...</td>\n",
       "      <td>[222, 145, 132, 222, 168, 132, 222, 168, 132, ...</td>\n",
       "      <td>1</td>\n",
       "    </tr>\n",
       "    <tr>\n",
       "      <th>2</th>\n",
       "      <td>18_168455_103215.png</td>\n",
       "      <td>&lt;PIL.PngImagePlugin.PngImageFile image mode=P ...</td>\n",
       "      <td>[[64, 64, 64], [64, 64, 64], [64, 64, 64], [64...</td>\n",
       "      <td>[64, 64, 64, 64, 64, 64, 64, 64, 64, 64, 64, 6...</td>\n",
       "      <td>1</td>\n",
       "    </tr>\n",
       "  </tbody>\n",
       "</table>\n",
       "</div>"
      ],
      "text/plain": [
       "                  files                                             images  \\\n",
       "0   17_107808_56423.png  <PIL.PngImagePlugin.PngImageFile image mode=P ...   \n",
       "1    15_26107_15380.png  <PIL.PngImagePlugin.PngImageFile image mode=P ...   \n",
       "2  18_168455_103215.png  <PIL.PngImagePlugin.PngImageFile image mode=P ...   \n",
       "\n",
       "                                            image_np  \\\n",
       "0  [[7, 7, 7], [7, 7, 7], [7, 7, 7], [7, 7, 7], [...   \n",
       "1  [[222, 145, 132], [222, 168, 132], [222, 168, ...   \n",
       "2  [[64, 64, 64], [64, 64, 64], [64, 64, 64], [64...   \n",
       "\n",
       "                                          flat_image  labels  \n",
       "0  [7, 7, 7, 7, 7, 7, 7, 7, 7, 7, 7, 7, 7, 7, 7, ...       1  \n",
       "1  [222, 145, 132, 222, 168, 132, 222, 168, 132, ...       1  \n",
       "2  [64, 64, 64, 64, 64, 64, 64, 64, 64, 64, 64, 6...       1  "
      ]
     },
     "execution_count": 17,
     "metadata": {},
     "output_type": "execute_result"
    }
   ],
   "source": [
    "airfield_tiles_df.head(3)"
   ]
  },
  {
   "cell_type": "code",
   "execution_count": 24,
   "metadata": {},
   "outputs": [],
   "source": [
    "y = list(airfield_tiles_df['labels'])\n",
    "data = list(airfield_tiles_df['flat_image'])"
   ]
  },
  {
   "cell_type": "code",
   "execution_count": 35,
   "metadata": {},
   "outputs": [],
   "source": [
    "from sklearn import datasets\n",
    "from sklearn import metrics\n",
    "from sklearn.naive_bayes import GaussianNB, BernoulliNB\n",
    "gnb = GaussianNB()\n",
    "#gnb = BernoulliNB()\n",
    "y_pred = gnb.fit(data, y).predict(data)"
   ]
  },
  {
   "cell_type": "code",
   "execution_count": 36,
   "metadata": {},
   "outputs": [
    {
     "data": {
      "text/plain": [
       "0.7839341262580055"
      ]
     },
     "execution_count": 36,
     "metadata": {},
     "output_type": "execute_result"
    }
   ],
   "source": [
    "print(\"accuracy: \" + str(metrics.accuracy_score(y, y_pred)))\n",
    "print(\"accuracy: \" + str(metrics.f1_score(y, y_pred)))"
   ]
  },
  {
   "cell_type": "code",
   "execution_count": 39,
   "metadata": {},
   "outputs": [],
   "source": [
    "from sklearn.svm import SVC\n",
    "clf = SVC(gamma='auto')\n",
    "clf_model = clf.fit(data, y)\n",
    "y_pred_clf = clf_model.predict(data)"
   ]
  },
  {
   "cell_type": "code",
   "execution_count": 44,
   "metadata": {},
   "outputs": [
    {
     "data": {
      "text/plain": [
       "['airfield_svm.joblib']"
      ]
     },
     "execution_count": 44,
     "metadata": {},
     "output_type": "execute_result"
    }
   ],
   "source": [
    "from joblib import dump, load\n",
    "dump(clf, 'airfield_svm.joblib') "
   ]
  },
  {
   "cell_type": "code",
   "execution_count": 41,
   "metadata": {},
   "outputs": [
    {
     "name": "stdout",
     "output_type": "stream",
     "text": [
      "accuracy: 0.9881061299176578\n",
      "accuracy: 0.9907166728555514\n"
     ]
    }
   ],
   "source": [
    "print(\"accuracy: \" + str(metrics.accuracy_score(y, y_pred_clf)))\n",
    "print(\"accuracy: \" + str(metrics.f1_score(y, y_pred_clf)))"
   ]
  },
  {
   "cell_type": "code",
   "execution_count": 68,
   "metadata": {},
   "outputs": [
    {
     "data": {
      "image/png": "[encoded data removed]",
      "text/plain": [
       "<PIL.PngImagePlugin.PngImageFile image mode=P size=256x256 at 0x7F1BB9315C18>"
      ]
     },
     "execution_count": 68,
     "metadata": {},
     "output_type": "execute_result"
    }
   ],
   "source": [
    "list(airfield_tiles_df['images'])[20]"
   ]
  },
  {
   "cell_type": "code",
   "execution_count": 22,
   "metadata": {},
   "outputs": [],
   "source": [
    "from sklearn import datasets\n",
    "iris = datasets.load_iris()\n",
    "from sklearn.naive_bayes import GaussianNB\n",
    "gnb = GaussianNB()\n",
    "y_pred = gnb.fit(iris.data, iris.target).predict(iris.data)"
   ]
  },
  {
   "cell_type": "code",
   "execution_count": null,
   "metadata": {},
   "outputs": [],
   "source": [
    "clf_fromfile = load('airfield_svm.joblib') "
   ]
  },
  {
   "cell_type": "code",
   "execution_count": 65,
   "metadata": {},
   "outputs": [],
   "source": [
    "def evaluate_image(image):\n",
    "    image_pil = image\n",
    "    image_np = np.array(image_pil)[...,:3]\n",
    "    image_flat_vector = image_np.flatten()\n",
    "    return clf_fromfile.predict([image_flat_vector])[0]"
   ]
  },
  {
   "cell_type": "code",
   "execution_count": 68,
   "metadata": {},
   "outputs": [],
   "source": [
    "img = PIL.Image.open('./data/airfield/18_168455_103215.png')"
   ]
  },
  {
   "cell_type": "code",
   "execution_count": 69,
   "metadata": {},
   "outputs": [
    {
     "data": {
      "text/plain": [
       "1"
      ]
     },
     "execution_count": 69,
     "metadata": {},
     "output_type": "execute_result"
    }
   ],
   "source": [
    "evaluate_image(img)"
   ]
  },
  {
   "cell_type": "code",
   "execution_count": null,
   "metadata": {},
   "outputs": [],
   "source": []
  }
 ],
 "metadata": {
  "kernelspec": {
   "display_name": "Python 3",
   "language": "python",
   "name": "python3"
  },
  "language_info": {
   "codemirror_mode": {
    "name": "ipython",
    "version": 3
   },
   "file_extension": ".py",
   "mimetype": "text/x-python",
   "name": "python",
   "nbconvert_exporter": "python",
   "pygments_lexer": "ipython3",
   "version": "3.6.8"
  }
 },
 "nbformat": 4,
 "nbformat_minor": 2
}
